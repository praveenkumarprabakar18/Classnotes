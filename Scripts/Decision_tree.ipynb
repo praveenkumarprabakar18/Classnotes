{
  "nbformat": 4,
  "nbformat_minor": 0,
  "metadata": {
    "colab": {
      "provenance": []
    },
    "language_info": {
      "name": "python"
    },
    "kernelspec": {
      "name": "python3",
      "display_name": "Python 3"
    },
    "gpuClass": "standard"
  },
  "cells": [
    {
      "cell_type": "markdown",
      "source": [
        "### Import dataset and packages"
      ],
      "metadata": {
        "id": "gh7TVFAwmf0R"
      }
    },
    {
      "cell_type": "code",
      "source": [
        "from  pandas import read_csv\n",
        "from sklearn.preprocessing import StandardScaler\n",
        "from sklearn import tree\n",
        "from sklearn.model_selection import KFold, cross_val_score, train_test_split\n",
        "from sklearn.metrics import confusion_matrix, accuracy_score, ConfusionMatrixDisplay, precision_score, recall_score\n",
        "from sklearn.tree import DecisionTreeClassifier"
      ],
      "metadata": {
        "id": "woCXzE5AUDCB"
      },
      "execution_count": 1,
      "outputs": []
    },
    {
      "cell_type": "markdown",
      "source": [
        "Import dataset"
      ],
      "metadata": {
        "id": "3PW4ORyXCYCn"
      }
    },
    {
      "cell_type": "code",
      "source": [
        "data_path = \"https://archive.ics.uci.edu/ml/machine-learning-databases/iris/iris.data\""
      ],
      "metadata": {
        "id": "y1sKtDy5CPg0"
      },
      "execution_count": 2,
      "outputs": []
    },
    {
      "cell_type": "markdown",
      "source": [
        "### Data preparation"
      ],
      "metadata": {
        "id": "nxEG5ZkNmlRD"
      }
    },
    {
      "cell_type": "code",
      "source": [
        "header = ['sepal-length', 'sepal-width', 'petal-length', 'petal-width', 'Class']\n",
        "dataset = read_csv(data_path, names = header)"
      ],
      "metadata": {
        "id": "t6wzA6XsUWO_"
      },
      "execution_count": 3,
      "outputs": []
    },
    {
      "cell_type": "markdown",
      "source": [
        "Divide dataset into independent (Predictors) and dependent (Target) dataset"
      ],
      "metadata": {
        "id": "vw2qXVUvmJN4"
      }
    },
    {
      "cell_type": "code",
      "source": [
        "X = dataset.iloc[:, 0:4].values\n",
        "Y = dataset.iloc[:, 4].values\n",
        "print(\"Shape of X\", X.shape)\n",
        "print(\"Shape of Y\", Y.shape)"
      ],
      "metadata": {
        "id": "st0d4E13UYRg",
        "colab": {
          "base_uri": "https://localhost:8080/"
        },
        "outputId": "beaffef3-7ac3-43eb-fa05-30cd8093e3d9"
      },
      "execution_count": 4,
      "outputs": [
        {
          "output_type": "stream",
          "name": "stdout",
          "text": [
            "Shape of X (150, 4)\n",
            "Shape of Y (150,)\n"
          ]
        }
      ]
    },
    {
      "cell_type": "markdown",
      "source": [
        "Data standardization"
      ],
      "metadata": {
        "id": "xxZPxKtgUdJN"
      }
    },
    {
      "cell_type": "code",
      "source": [
        "scaler = StandardScaler() # Z scaling\n",
        "scaler.fit(X)\n",
        "X = scaler.transform(X)"
      ],
      "metadata": {
        "id": "o1Zek5HBUXBC"
      },
      "execution_count": 5,
      "outputs": []
    },
    {
      "cell_type": "markdown",
      "source": [
        "### K nearest neighbors implementation"
      ],
      "metadata": {
        "id": "Gu9zD0OumzKX"
      }
    },
    {
      "cell_type": "markdown",
      "source": [
        "Divide dataset into Training and Testing data"
      ],
      "metadata": {
        "id": "ktxPK_ATCHdn"
      }
    },
    {
      "cell_type": "code",
      "source": [
        "X_train, X_test, Y_train, Y_test = train_test_split(X, Y, test_size = 0.20)\n",
        "clf = DecisionTreeClassifier()\n",
        "clf = clf.fit(X_train,Y_train)\n",
        "Y_pred = clf.predict(X_test)\n",
        "X_test.shape, Y_test.shape\n",
        "\n",
        "result = confusion_matrix(Y_test, Y_pred)\n",
        "print(\"Confusion Matrix :\\n\", result)\n",
        "acc = accuracy_score(Y_test,Y_pred)\n",
        "print(\"Accuracy =\",\"%3.2f\" % (acc * 100),\"%\")\n",
        "\n",
        "print(\"Test Precision: {}%\".format(round(precision_score(y_true=Y_test, y_pred=Y_pred,average='micro')*100,2), \"\\n\"))\n",
        "print(\"Test Recall: {}%\".format(round(recall_score(y_true=Y_test, y_pred=Y_pred,average='micro')*100,2), \"\\n\"))\n",
        "print(classification_report(Y_test, Y_pred))"
      ],
      "metadata": {
        "id": "5pMsHaiFUdqN",
        "colab": {
          "base_uri": "https://localhost:8080/"
        },
        "outputId": "dcfb7db1-cdd2-4495-fd0a-814d500ca9b9"
      },
      "execution_count": 18,
      "outputs": [
        {
          "output_type": "stream",
          "name": "stdout",
          "text": [
            "Confusion Matrix :\n",
            " [[ 8  0  0]\n",
            " [ 0 10  1]\n",
            " [ 0  0 11]]\n",
            "Accuracy = 96.67 %\n",
            "Test Precision: 96.67%\n",
            "Test Recall: 96.67%\n",
            "                 precision    recall  f1-score   support\n",
            "\n",
            "    Iris-setosa       1.00      1.00      1.00         8\n",
            "Iris-versicolor       1.00      0.91      0.95        11\n",
            " Iris-virginica       0.92      1.00      0.96        11\n",
            "\n",
            "       accuracy                           0.97        30\n",
            "      macro avg       0.97      0.97      0.97        30\n",
            "   weighted avg       0.97      0.97      0.97        30\n",
            "\n"
          ]
        }
      ]
    },
    {
      "cell_type": "markdown",
      "source": [
        "## Visualize the confusion matrix"
      ],
      "metadata": {
        "id": "39b3_tyWgKy6"
      }
    },
    {
      "cell_type": "code",
      "source": [
        "from sklearn.metrics import confusion_matrix, ConfusionMatrixDisplay\n",
        "cm = confusion_matrix(Y_test, Y_pred)\n",
        "cmd = ConfusionMatrixDisplay(cm, display_labels=[0,1,2])\n",
        "cmd.plot()"
      ],
      "metadata": {
        "colab": {
          "base_uri": "https://localhost:8080/",
          "height": 296
        },
        "id": "NRfFUQoLfyRF",
        "outputId": "0704d33c-83fd-4419-b393-1072e672ae18"
      },
      "execution_count": 7,
      "outputs": [
        {
          "output_type": "execute_result",
          "data": {
            "text/plain": [
              "<sklearn.metrics._plot.confusion_matrix.ConfusionMatrixDisplay at 0x7fb93cd288b0>"
            ]
          },
          "metadata": {},
          "execution_count": 7
        },
        {
          "output_type": "display_data",
          "data": {
            "text/plain": [
              "<Figure size 432x288 with 2 Axes>"
            ],
            "image/png": "[encoded data removed]"
          },
          "metadata": {
            "needs_background": "light"
          }
        }
      ]
    },
    {
      "cell_type": "code",
      "source": [
        "from sklearn.metrics import precision_score, classification_report\n",
        "from sklearn.neighbors import KNeighborsClassifier\n",
        "print(\"Test Precision: {}%\".format(round(precision_score(y_true=Y_test, y_pred=Y_pred,average='micro')*100,2), \"\\n\"))\n",
        "print(\"Test Recall: {}%\".format(round(recall_score(y_true=Y_test, y_pred=Y_pred,average='micro')*100,2), \"\\n\"))\n",
        "print(classification_report(Y_test, Y_pred))"
      ],
      "metadata": {
        "colab": {
          "base_uri": "https://localhost:8080/"
        },
        "id": "2hnJmSARgjy4",
        "outputId": "d461fb03-6607-46df-ea1a-3d4e27efb744"
      },
      "execution_count": 16,
      "outputs": [
        {
          "output_type": "stream",
          "name": "stdout",
          "text": [
            "Test Precision: 96.67%\n",
            "Test Recall: 96.67%\n",
            "                 precision    recall  f1-score   support\n",
            "\n",
            "    Iris-setosa       1.00      1.00      1.00         9\n",
            "Iris-versicolor       1.00      0.90      0.95        10\n",
            " Iris-virginica       0.92      1.00      0.96        11\n",
            "\n",
            "       accuracy                           0.97        30\n",
            "      macro avg       0.97      0.97      0.97        30\n",
            "   weighted avg       0.97      0.97      0.97        30\n",
            "\n"
          ]
        }
      ]
    },
    {
      "cell_type": "code",
      "source": [
        "tree.plot_tree(clf, filled = True)"
      ],
      "metadata": {
        "colab": {
          "base_uri": "https://localhost:8080/",
          "height": 543
        },
        "id": "blXTeBgt99q9",
        "outputId": "e8de8307-e8eb-4fba-f42c-b6daf0e5f004"
      },
      "execution_count": 11,
      "outputs": [
        {
          "output_type": "execute_result",
          "data": {
            "text/plain": [
              "[Text(0.4444444444444444, 0.9285714285714286, 'x[2] <= -0.744\\ngini = 0.667\\nsamples = 120\\nvalue = [41, 40, 39]'),\n",
              " Text(0.3333333333333333, 0.7857142857142857, 'gini = 0.0\\nsamples = 41\\nvalue = [41, 0, 0]'),\n",
              " Text(0.5555555555555556, 0.7857142857142857, 'x[3] <= 0.725\\ngini = 0.5\\nsamples = 79\\nvalue = [0, 40, 39]'),\n",
              " Text(0.3333333333333333, 0.6428571428571429, 'x[2] <= 0.905\\ngini = 0.169\\nsamples = 43\\nvalue = [0, 39, 4]'),\n",
              " Text(0.2222222222222222, 0.5, 'x[0] <= -1.082\\ngini = 0.093\\nsamples = 41\\nvalue = [0, 39, 2]'),\n",
              " Text(0.1111111111111111, 0.35714285714285715, 'gini = 0.0\\nsamples = 1\\nvalue = [0, 0, 1]'),\n",
              " Text(0.3333333333333333, 0.35714285714285715, 'x[2] <= 0.677\\ngini = 0.049\\nsamples = 40\\nvalue = [0, 39, 1]'),\n",
              " Text(0.2222222222222222, 0.21428571428571427, 'gini = 0.0\\nsamples = 37\\nvalue = [0, 37, 0]'),\n",
              " Text(0.4444444444444444, 0.21428571428571427, 'x[3] <= 0.462\\ngini = 0.444\\nsamples = 3\\nvalue = [0, 2, 1]'),\n",
              " Text(0.3333333333333333, 0.07142857142857142, 'gini = 0.0\\nsamples = 1\\nvalue = [0, 0, 1]'),\n",
              " Text(0.5555555555555556, 0.07142857142857142, 'gini = 0.0\\nsamples = 2\\nvalue = [0, 2, 0]'),\n",
              " Text(0.4444444444444444, 0.5, 'gini = 0.0\\nsamples = 2\\nvalue = [0, 0, 2]'),\n",
              " Text(0.7777777777777778, 0.6428571428571429, 'x[2] <= 0.621\\ngini = 0.054\\nsamples = 36\\nvalue = [0, 1, 35]'),\n",
              " Text(0.6666666666666666, 0.5, 'x[0] <= 0.129\\ngini = 0.444\\nsamples = 3\\nvalue = [0, 1, 2]'),\n",
              " Text(0.5555555555555556, 0.35714285714285715, 'gini = 0.0\\nsamples = 1\\nvalue = [0, 1, 0]'),\n",
              " Text(0.7777777777777778, 0.35714285714285715, 'gini = 0.0\\nsamples = 2\\nvalue = [0, 0, 2]'),\n",
              " Text(0.8888888888888888, 0.5, 'gini = 0.0\\nsamples = 33\\nvalue = [0, 0, 33]')]"
            ]
          },
          "metadata": {},
          "execution_count": 11
        },
        {
          "output_type": "display_data",
          "data": {
            "text/plain": [
              "<Figure size 432x288 with 1 Axes>"
            ],
            "image/png": "[encoded data removed]"
          },
          "metadata": {
            "needs_background": "light"
          }
        }
      ]
    },
    {
      "cell_type": "markdown",
      "source": [
        "### Cross validation"
      ],
      "metadata": {
        "id": "-squmIqvB2Oi"
      }
    },
    {
      "cell_type": "code",
      "source": [
        "classifier = KNeighborsClassifier(n_neighbors = 5, metric = 'minkowski', p=2)\n",
        "k_folds = KFold(n_splits = 10, shuffle=True)\n",
        "scores = cross_val_score(classifier, X, Y, cv=k_folds)\n",
        "print(\"Mean =\",\"%3.2f\" % (scores.mean() * 100),\"%\")\n",
        "print(\"Standard deviation =\",\"%3.2f\" % (scores.std() * 100))"
      ],
      "metadata": {
        "id": "2sukmmndUhEx",
        "colab": {
          "base_uri": "https://localhost:8080/"
        },
        "outputId": "7996d9a9-50b5-4144-b753-c0b53145b9cc"
      },
      "execution_count": 17,
      "outputs": [
        {
          "output_type": "stream",
          "name": "stdout",
          "text": [
            "Mean = 95.33 %\n",
            "Standard deviation = 5.21\n"
          ]
        }
      ]
    }
  ]
}