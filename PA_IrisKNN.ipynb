{
  "nbformat": 4,
  "nbformat_minor": 0,
  "metadata": {
    "colab": {
      "provenance": []
    },
    "kernelspec": {
      "name": "python3",
      "display_name": "Python 3"
    },
    "language_info": {
      "name": "python"
    }
  },
  "cells": [
    {
      "cell_type": "code",
      "execution_count": 2,
      "metadata": {
        "id": "ysUN9GKtrrvk"
      },
      "outputs": [],
      "source": [
        "from pandas import read_csv\n",
        "import numpy as np\n",
        "data=read_csv(\"https://archive.ics.uci.edu/ml/machine-learning-databases/iris/iris.data\")"
      ]
    },
    {
      "cell_type": "code",
      "source": [
        "data.head"
      ],
      "metadata": {
        "colab": {
          "base_uri": "https://localhost:8080/"
        },
        "id": "ceOTl871srGj",
        "outputId": "e5e8e9ec-b0e0-4261-f25f-152b75010579"
      },
      "execution_count": 3,
      "outputs": [
        {
          "output_type": "execute_result",
          "data": {
            "text/plain": [
              "<bound method NDFrame.head of      5.1  3.5  1.4  0.2     Iris-setosa\n",
              "0    4.9  3.0  1.4  0.2     Iris-setosa\n",
              "1    4.7  3.2  1.3  0.2     Iris-setosa\n",
              "2    4.6  3.1  1.5  0.2     Iris-setosa\n",
              "3    5.0  3.6  1.4  0.2     Iris-setosa\n",
              "4    5.4  3.9  1.7  0.4     Iris-setosa\n",
              "..   ...  ...  ...  ...             ...\n",
              "144  6.7  3.0  5.2  2.3  Iris-virginica\n",
              "145  6.3  2.5  5.0  1.9  Iris-virginica\n",
              "146  6.5  3.0  5.2  2.0  Iris-virginica\n",
              "147  6.2  3.4  5.4  2.3  Iris-virginica\n",
              "148  5.9  3.0  5.1  1.8  Iris-virginica\n",
              "\n",
              "[149 rows x 5 columns]>"
            ]
          },
          "metadata": {},
          "execution_count": 3
        }
      ]
    },
    {
      "cell_type": "code",
      "source": [
        "headers=[\"Sepal Length\", \"Sepal Width\", \"Petal Length\", \"Petal Width\", \"Species\"]"
      ],
      "metadata": {
        "id": "6jxSBJE_s8ca"
      },
      "execution_count": 5,
      "outputs": []
    },
    {
      "cell_type": "code",
      "source": [
        "data=read_csv(\"https://archive.ics.uci.edu/ml/machine-learning-databases/iris/iris.data\", names= headers)\n",
        "data"
      ],
      "metadata": {
        "colab": {
          "base_uri": "https://localhost:8080/",
          "height": 424
        },
        "id": "0bCuNMQ_tjgQ",
        "outputId": "728880ef-6173-4afc-b7f3-76ebb68d70ac"
      },
      "execution_count": 12,
      "outputs": [
        {
          "output_type": "execute_result",
          "data": {
            "text/plain": [
              "     Petel Length  Patel Width  Sepal Length  Sepal Width         Species\n",
              "0             5.1          3.5           1.4          0.2     Iris-setosa\n",
              "1             4.9          3.0           1.4          0.2     Iris-setosa\n",
              "2             4.7          3.2           1.3          0.2     Iris-setosa\n",
              "3             4.6          3.1           1.5          0.2     Iris-setosa\n",
              "4             5.0          3.6           1.4          0.2     Iris-setosa\n",
              "..            ...          ...           ...          ...             ...\n",
              "145           6.7          3.0           5.2          2.3  Iris-virginica\n",
              "146           6.3          2.5           5.0          1.9  Iris-virginica\n",
              "147           6.5          3.0           5.2          2.0  Iris-virginica\n",
              "148           6.2          3.4           5.4          2.3  Iris-virginica\n",
              "149           5.9          3.0           5.1          1.8  Iris-virginica\n",
              "\n",
              "[150 rows x 5 columns]"
            ],
            "text/html": [
              "\n",
              "  <div id=\"df-bad8f012-bd1f-4660-aeae-4368d5382869\">\n",
              "    <div class=\"colab-df-container\">\n",
              "      <div>\n",
              "<style scoped>\n",
              "    .dataframe tbody tr th:only-of-type {\n",
              "        vertical-align: middle;\n",
              "    }\n",
              "\n",
              "    .dataframe tbody tr th {\n",
              "        vertical-align: top;\n",
              "    }\n",
              "\n",
              "    .dataframe thead th {\n",
              "        text-align: right;\n",
              "    }\n",
              "</style>\n",
              "<table border=\"1\" class=\"dataframe\">\n",
              "  <thead>\n",
              "    <tr style=\"text-align: right;\">\n",
              "      <th></th>\n",
              "      <th>Petel Length</th>\n",
              "      <th>Patel Width</th>\n",
              "      <th>Sepal Length</th>\n",
              "      <th>Sepal Width</th>\n",
              "      <th>Species</th>\n",
              "    </tr>\n",
              "  </thead>\n",
              "  <tbody>\n",
              "    <tr>\n",
              "      <th>0</th>\n",
              "      <td>5.1</td>\n",
              "      <td>3.5</td>\n",
              "      <td>1.4</td>\n",
              "      <td>0.2</td>\n",
              "      <td>Iris-setosa</td>\n",
              "    </tr>\n",
              "    <tr>\n",
              "      <th>1</th>\n",
              "      <td>4.9</td>\n",
              "      <td>3.0</td>\n",
              "      <td>1.4</td>\n",
              "      <td>0.2</td>\n",
              "      <td>Iris-setosa</td>\n",
              "    </tr>\n",
              "    <tr>\n",
              "      <th>2</th>\n",
              "      <td>4.7</td>\n",
              "      <td>3.2</td>\n",
              "      <td>1.3</td>\n",
              "      <td>0.2</td>\n",
              "      <td>Iris-setosa</td>\n",
              "    </tr>\n",
              "    <tr>\n",
              "      <th>3</th>\n",
              "      <td>4.6</td>\n",
              "      <td>3.1</td>\n",
              "      <td>1.5</td>\n",
              "      <td>0.2</td>\n",
              "      <td>Iris-setosa</td>\n",
              "    </tr>\n",
              "    <tr>\n",
              "      <th>4</th>\n",
              "      <td>5.0</td>\n",
              "      <td>3.6</td>\n",
              "      <td>1.4</td>\n",
              "      <td>0.2</td>\n",
              "      <td>Iris-setosa</td>\n",
              "    </tr>\n",
              "    <tr>\n",
              "      <th>...</th>\n",
              "      <td>...</td>\n",
              "      <td>...</td>\n",
              "      <td>...</td>\n",
              "      <td>...</td>\n",
              "      <td>...</td>\n",
              "    </tr>\n",
              "    <tr>\n",
              "      <th>145</th>\n",
              "      <td>6.7</td>\n",
              "      <td>3.0</td>\n",
              "      <td>5.2</td>\n",
              "      <td>2.3</td>\n",
              "      <td>Iris-virginica</td>\n",
              "    </tr>\n",
              "    <tr>\n",
              "      <th>146</th>\n",
              "      <td>6.3</td>\n",
              "      <td>2.5</td>\n",
              "      <td>5.0</td>\n",
              "      <td>1.9</td>\n",
              "      <td>Iris-virginica</td>\n",
              "    </tr>\n",
              "    <tr>\n",
              "      <th>147</th>\n",
              "      <td>6.5</td>\n",
              "      <td>3.0</td>\n",
              "      <td>5.2</td>\n",
              "      <td>2.0</td>\n",
              "      <td>Iris-virginica</td>\n",
              "    </tr>\n",
              "    <tr>\n",
              "      <th>148</th>\n",
              "      <td>6.2</td>\n",
              "      <td>3.4</td>\n",
              "      <td>5.4</td>\n",
              "      <td>2.3</td>\n",
              "      <td>Iris-virginica</td>\n",
              "    </tr>\n",
              "    <tr>\n",
              "      <th>149</th>\n",
              "      <td>5.9</td>\n",
              "      <td>3.0</td>\n",
              "      <td>5.1</td>\n",
              "      <td>1.8</td>\n",
              "      <td>Iris-virginica</td>\n",
              "    </tr>\n",
              "  </tbody>\n",
              "</table>\n",
              "<p>150 rows × 5 columns</p>\n",
              "</div>\n",
              "      <button class=\"colab-df-convert\" onclick=\"convertToInteractive('df-bad8f012-bd1f-4660-aeae-4368d5382869')\"\n",
              "              title=\"Convert this dataframe to an interactive table.\"\n",
              "              style=\"display:none;\">\n",
              "        \n",
              "  <svg xmlns=\"http://www.w3.org/2000/svg\" height=\"24px\"viewBox=\"0 0 24 24\"\n",
              "       width=\"24px\">\n",
              "    <path d=\"M0 0h24v24H0V0z\" fill=\"none\"/>\n",
              "    <path d=\"M18.56 5.44l.94 2.06.94-2.06 2.06-.94-2.06-.94-.94-2.06-.94 2.06-2.06.94zm-11 1L8.5 8.5l.94-2.06 2.06-.94-2.06-.94L8.5 2.5l-.94 2.06-2.06.94zm10 10l.94 2.06.94-2.06 2.06-.94-2.06-.94-.94-2.06-.94 2.06-2.06.94z\"/><path d=\"M17.41 7.96l-1.37-1.37c-.4-.4-.92-.59-1.43-.59-.52 0-1.04.2-1.43.59L10.3 9.45l-7.72 7.72c-.78.78-.78 2.05 0 2.83L4 21.41c.39.39.9.59 1.41.59.51 0 1.02-.2 1.41-.59l7.78-7.78 2.81-2.81c.8-.78.8-2.07 0-2.86zM5.41 20L4 18.59l7.72-7.72 1.47 1.35L5.41 20z\"/>\n",
              "  </svg>\n",
              "      </button>\n",
              "      \n",
              "  <style>\n",
              "    .colab-df-container {\n",
              "      display:flex;\n",
              "      flex-wrap:wrap;\n",
              "      gap: 12px;\n",
              "    }\n",
              "\n",
              "    .colab-df-convert {\n",
              "      background-color: #E8F0FE;\n",
              "      border: none;\n",
              "      border-radius: 50%;\n",
              "      cursor: pointer;\n",
              "      display: none;\n",
              "      fill: #1967D2;\n",
              "      height: 32px;\n",
              "      padding: 0 0 0 0;\n",
              "      width: 32px;\n",
              "    }\n",
              "\n",
              "    .colab-df-convert:hover {\n",
              "      background-color: #E2EBFA;\n",
              "      box-shadow: 0px 1px 2px rgba(60, 64, 67, 0.3), 0px 1px 3px 1px rgba(60, 64, 67, 0.15);\n",
              "      fill: #174EA6;\n",
              "    }\n",
              "\n",
              "    [theme=dark] .colab-df-convert {\n",
              "      background-color: #3B4455;\n",
              "      fill: #D2E3FC;\n",
              "    }\n",
              "\n",
              "    [theme=dark] .colab-df-convert:hover {\n",
              "      background-color: #434B5C;\n",
              "      box-shadow: 0px 1px 3px 1px rgba(0, 0, 0, 0.15);\n",
              "      filter: drop-shadow(0px 1px 2px rgba(0, 0, 0, 0.3));\n",
              "      fill: #FFFFFF;\n",
              "    }\n",
              "  </style>\n",
              "\n",
              "      <script>\n",
              "        const buttonEl =\n",
              "          document.querySelector('#df-bad8f012-bd1f-4660-aeae-4368d5382869 button.colab-df-convert');\n",
              "        buttonEl.style.display =\n",
              "          google.colab.kernel.accessAllowed ? 'block' : 'none';\n",
              "\n",
              "        async function convertToInteractive(key) {\n",
              "          const element = document.querySelector('#df-bad8f012-bd1f-4660-aeae-4368d5382869');\n",
              "          const dataTable =\n",
              "            await google.colab.kernel.invokeFunction('convertToInteractive',\n",
              "                                                     [key], {});\n",
              "          if (!dataTable) return;\n",
              "\n",
              "          const docLinkHtml = 'Like what you see? Visit the ' +\n",
              "            '<a target=\"_blank\" href=https://colab.research.google.com/notebooks/data_table.ipynb>data table notebook</a>'\n",
              "            + ' to learn more about interactive tables.';\n",
              "          element.innerHTML = '';\n",
              "          dataTable['output_type'] = 'display_data';\n",
              "          await google.colab.output.renderOutput(dataTable, element);\n",
              "          const docLink = document.createElement('div');\n",
              "          docLink.innerHTML = docLinkHtml;\n",
              "          element.appendChild(docLink);\n",
              "        }\n",
              "      </script>\n",
              "    </div>\n",
              "  </div>\n",
              "  "
            ]
          },
          "metadata": {},
          "execution_count": 12
        }
      ]
    },
    {
      "cell_type": "code",
      "source": [
        "from sklearn.preprocessing import StandardScaler"
      ],
      "metadata": {
        "id": "pXYmvNF4taBh"
      },
      "execution_count": 14,
      "outputs": []
    },
    {
      "cell_type": "code",
      "source": [
        "scaler=StandardScaler()\n",
        "x=data.iloc[:, :-1 ].values\n",
        "y=data.iloc[:, 4].values\n",
        "scaler.fit(x)"
      ],
      "metadata": {
        "colab": {
          "base_uri": "https://localhost:8080/",
          "height": 75
        },
        "id": "-0RjQSQnvLIn",
        "outputId": "b07d8096-da9f-417d-af55-5623a86f04c5"
      },
      "execution_count": 17,
      "outputs": [
        {
          "output_type": "execute_result",
          "data": {
            "text/plain": [
              "StandardScaler()"
            ],
            "text/html": [
              "<style>#sk-container-id-1 {color: black;background-color: white;}#sk-container-id-1 pre{padding: 0;}#sk-container-id-1 div.sk-toggleable {background-color: white;}#sk-container-id-1 label.sk-toggleable__label {cursor: pointer;display: block;width: 100%;margin-bottom: 0;padding: 0.3em;box-sizing: border-box;text-align: center;}#sk-container-id-1 label.sk-toggleable__label-arrow:before {content: \"▸\";float: left;margin-right: 0.25em;color: #696969;}#sk-container-id-1 label.sk-toggleable__label-arrow:hover:before {color: black;}#sk-container-id-1 div.sk-estimator:hover label.sk-toggleable__label-arrow:before {color: black;}#sk-container-id-1 div.sk-toggleable__content {max-height: 0;max-width: 0;overflow: hidden;text-align: left;background-color: #f0f8ff;}#sk-container-id-1 div.sk-toggleable__content pre {margin: 0.2em;color: black;border-radius: 0.25em;background-color: #f0f8ff;}#sk-container-id-1 input.sk-toggleable__control:checked~div.sk-toggleable__content {max-height: 200px;max-width: 100%;overflow: auto;}#sk-container-id-1 input.sk-toggleable__control:checked~label.sk-toggleable__label-arrow:before {content: \"▾\";}#sk-container-id-1 div.sk-estimator input.sk-toggleable__control:checked~label.sk-toggleable__label {background-color: #d4ebff;}#sk-container-id-1 div.sk-label input.sk-toggleable__control:checked~label.sk-toggleable__label {background-color: #d4ebff;}#sk-container-id-1 input.sk-hidden--visually {border: 0;clip: rect(1px 1px 1px 1px);clip: rect(1px, 1px, 1px, 1px);height: 1px;margin: -1px;overflow: hidden;padding: 0;position: absolute;width: 1px;}#sk-container-id-1 div.sk-estimator {font-family: monospace;background-color: #f0f8ff;border: 1px dotted black;border-radius: 0.25em;box-sizing: border-box;margin-bottom: 0.5em;}#sk-container-id-1 div.sk-estimator:hover {background-color: #d4ebff;}#sk-container-id-1 div.sk-parallel-item::after {content: \"\";width: 100%;border-bottom: 1px solid gray;flex-grow: 1;}#sk-container-id-1 div.sk-label:hover label.sk-toggleable__label {background-color: #d4ebff;}#sk-container-id-1 div.sk-serial::before {content: \"\";position: absolute;border-left: 1px solid gray;box-sizing: border-box;top: 0;bottom: 0;left: 50%;z-index: 0;}#sk-container-id-1 div.sk-serial {display: flex;flex-direction: column;align-items: center;background-color: white;padding-right: 0.2em;padding-left: 0.2em;position: relative;}#sk-container-id-1 div.sk-item {position: relative;z-index: 1;}#sk-container-id-1 div.sk-parallel {display: flex;align-items: stretch;justify-content: center;background-color: white;position: relative;}#sk-container-id-1 div.sk-item::before, #sk-container-id-1 div.sk-parallel-item::before {content: \"\";position: absolute;border-left: 1px solid gray;box-sizing: border-box;top: 0;bottom: 0;left: 50%;z-index: -1;}#sk-container-id-1 div.sk-parallel-item {display: flex;flex-direction: column;z-index: 1;position: relative;background-color: white;}#sk-container-id-1 div.sk-parallel-item:first-child::after {align-self: flex-end;width: 50%;}#sk-container-id-1 div.sk-parallel-item:last-child::after {align-self: flex-start;width: 50%;}#sk-container-id-1 div.sk-parallel-item:only-child::after {width: 0;}#sk-container-id-1 div.sk-dashed-wrapped {border: 1px dashed gray;margin: 0 0.4em 0.5em 0.4em;box-sizing: border-box;padding-bottom: 0.4em;background-color: white;}#sk-container-id-1 div.sk-label label {font-family: monospace;font-weight: bold;display: inline-block;line-height: 1.2em;}#sk-container-id-1 div.sk-label-container {text-align: center;}#sk-container-id-1 div.sk-container {/* jupyter's `normalize.less` sets `[hidden] { display: none; }` but bootstrap.min.css set `[hidden] { display: none !important; }` so we also need the `!important` here to be able to override the default hidden behavior on the sphinx rendered scikit-learn.org. See: https://github.com/scikit-learn/scikit-learn/issues/21755 */display: inline-block !important;position: relative;}#sk-container-id-1 div.sk-text-repr-fallback {display: none;}</style><div id=\"sk-container-id-1\" class=\"sk-top-container\"><div class=\"sk-text-repr-fallback\"><pre>StandardScaler()</pre><b>In a Jupyter environment, please rerun this cell to show the HTML representation or trust the notebook. <br />On GitHub, the HTML representation is unable to render, please try loading this page with nbviewer.org.</b></div><div class=\"sk-container\" hidden><div class=\"sk-item\"><div class=\"sk-estimator sk-toggleable\"><input class=\"sk-toggleable__control sk-hidden--visually\" id=\"sk-estimator-id-1\" type=\"checkbox\" checked><label for=\"sk-estimator-id-1\" class=\"sk-toggleable__label sk-toggleable__label-arrow\">StandardScaler</label><div class=\"sk-toggleable__content\"><pre>StandardScaler()</pre></div></div></div></div></div>"
            ]
          },
          "metadata": {},
          "execution_count": 17
        }
      ]
    },
    {
      "cell_type": "code",
      "source": [
        "x = scaler.transform(x)\n",
        "x"
      ],
      "metadata": {
        "colab": {
          "base_uri": "https://localhost:8080/"
        },
        "id": "fHNxY_ccvLRN",
        "outputId": "38a11048-fb62-4911-d685-e8de3446dc31"
      },
      "execution_count": 19,
      "outputs": [
        {
          "output_type": "execute_result",
          "data": {
            "text/plain": [
              "array([[ -8.17157876,  -4.67883554,  -2.90011626,  -3.30213217],\n",
              "       [ -8.46521181,  -7.35620215,  -2.90011626,  -3.30213217],\n",
              "       [ -8.75884487,  -6.2852555 ,  -2.93245334,  -3.30213217],\n",
              "       [ -8.9056614 ,  -6.82072883,  -2.86777917,  -3.30213217],\n",
              "       [ -8.31839528,  -4.14336221,  -2.90011626,  -3.30213217],\n",
              "       [ -7.73112917,  -2.53694224,  -2.80310501,  -2.95642933],\n",
              "       [ -8.9056614 ,  -5.21430886,  -2.90011626,  -3.12928075],\n",
              "       [ -8.31839528,  -5.21430886,  -2.86777917,  -3.30213217],\n",
              "       [ -9.19929445,  -7.89167547,  -2.90011626,  -3.30213217],\n",
              "       [ -8.46521181,  -6.82072883,  -2.86777917,  -3.47498358],\n",
              "       [ -7.73112917,  -3.60788889,  -2.86777917,  -3.30213217],\n",
              "       [ -8.61202834,  -5.21430886,  -2.83544209,  -3.30213217],\n",
              "       [ -8.61202834,  -7.35620215,  -2.90011626,  -3.47498358],\n",
              "       [ -9.34611098,  -7.35620215,  -2.9971275 ,  -3.47498358],\n",
              "       [ -7.14386306,  -2.00146892,  -2.96479042,  -3.30213217],\n",
              "       [ -7.29067959,   0.14042437,  -2.86777917,  -2.95642933],\n",
              "       [ -7.73112917,  -2.53694224,  -2.93245334,  -2.95642933],\n",
              "       [ -8.17157876,  -4.67883554,  -2.90011626,  -3.12928075],\n",
              "       [ -7.29067959,  -3.07241557,  -2.80310501,  -3.12928075],\n",
              "       [ -8.17157876,  -3.07241557,  -2.86777917,  -3.12928075],\n",
              "       [ -7.73112917,  -5.21430886,  -2.80310501,  -3.30213217],\n",
              "       [ -8.17157876,  -3.60788889,  -2.86777917,  -2.95642933],\n",
              "       [ -8.9056614 ,  -4.14336221,  -3.02946459,  -3.30213217],\n",
              "       [ -8.17157876,  -5.74978218,  -2.80310501,  -2.78357791],\n",
              "       [ -8.61202834,  -5.21430886,  -2.73843084,  -3.30213217],\n",
              "       [ -8.31839528,  -7.35620215,  -2.83544209,  -3.30213217],\n",
              "       [ -8.31839528,  -5.21430886,  -2.83544209,  -2.95642933],\n",
              "       [ -8.02476223,  -4.67883554,  -2.86777917,  -3.30213217],\n",
              "       [ -8.02476223,  -5.21430886,  -2.90011626,  -3.30213217],\n",
              "       [ -8.75884487,  -6.2852555 ,  -2.83544209,  -3.30213217],\n",
              "       [ -8.61202834,  -6.82072883,  -2.83544209,  -3.30213217],\n",
              "       [ -7.73112917,  -5.21430886,  -2.86777917,  -2.95642933],\n",
              "       [ -8.02476223,  -1.4659956 ,  -2.86777917,  -3.47498358],\n",
              "       [ -7.58431264,  -0.93052228,  -2.90011626,  -3.30213217],\n",
              "       [ -8.46521181,  -6.82072883,  -2.86777917,  -3.47498358],\n",
              "       [ -8.31839528,  -6.2852555 ,  -2.96479042,  -3.30213217],\n",
              "       [ -7.58431264,  -4.67883554,  -2.93245334,  -3.30213217],\n",
              "       [ -8.46521181,  -6.82072883,  -2.86777917,  -3.47498358],\n",
              "       [ -9.19929445,  -7.35620215,  -2.93245334,  -3.30213217],\n",
              "       [ -8.17157876,  -5.21430886,  -2.86777917,  -3.30213217],\n",
              "       [ -8.31839528,  -4.67883554,  -2.93245334,  -3.12928075],\n",
              "       [ -9.05247793, -11.10451541,  -2.93245334,  -3.12928075],\n",
              "       [ -9.19929445,  -6.2852555 ,  -2.93245334,  -3.30213217],\n",
              "       [ -8.31839528,  -4.67883554,  -2.83544209,  -2.61072649],\n",
              "       [ -8.17157876,  -3.07241557,  -2.73843084,  -2.95642933],\n",
              "       [ -8.61202834,  -7.35620215,  -2.90011626,  -3.12928075],\n",
              "       [ -8.17157876,  -3.07241557,  -2.83544209,  -3.30213217],\n",
              "       [ -8.9056614 ,  -6.2852555 ,  -2.90011626,  -3.30213217],\n",
              "       [ -7.8779457 ,  -3.60788889,  -2.86777917,  -3.30213217],\n",
              "       [ -8.31839528,  -5.74978218,  -2.90011626,  -3.30213217],\n",
              "       [ -5.38206472,  -6.2852555 ,  -1.83299252,  -1.22791514],\n",
              "       [ -6.26296389,  -6.2852555 ,  -1.89766669,  -1.05506373],\n",
              "       [ -5.52888125,  -6.82072883,  -1.76831835,  -1.05506373],\n",
              "       [ -7.58431264, -11.10451541,  -2.0593521 ,  -1.40076656],\n",
              "       [ -6.11614736,  -8.42714879,  -1.8653296 ,  -1.05506373],\n",
              "       [ -7.29067959,  -8.42714879,  -1.89766669,  -1.40076656],\n",
              "       [ -6.40978042,  -5.74978218,  -1.83299252,  -0.88221231],\n",
              "       [ -8.46521181, -10.56904209,  -2.28571168,  -1.91932082],\n",
              "       [ -5.96933083,  -7.89167547,  -1.8653296 ,  -1.40076656],\n",
              "       [ -8.02476223,  -8.96262212,  -2.09168918,  -1.22791514],\n",
              "       [ -8.31839528, -12.71093538,  -2.22103752,  -1.91932082],\n",
              "       [ -6.99704653,  -7.35620215,  -1.99467793,  -1.05506373],\n",
              "       [ -6.85023   , -11.63998873,  -2.0593521 ,  -1.91932082],\n",
              "       [ -6.70341347,  -7.89167547,  -1.83299252,  -1.22791514],\n",
              "       [ -7.43749612,  -7.89167547,  -2.18870043,  -1.40076656],\n",
              "       [ -5.8225143 ,  -6.82072883,  -1.93000377,  -1.22791514],\n",
              "       [ -7.43749612,  -7.35620215,  -1.89766669,  -1.05506373],\n",
              "       [ -7.14386306,  -8.96262212,  -2.02701502,  -1.91932082],\n",
              "       [ -6.55659695, -11.63998873,  -1.89766669,  -1.05506373],\n",
              "       [ -7.43749612, -10.03356876,  -2.09168918,  -1.7464694 ],\n",
              "       [ -6.99704653,  -6.2852555 ,  -1.80065544,  -0.53650947],\n",
              "       [ -6.70341347,  -8.42714879,  -2.0593521 ,  -1.40076656],\n",
              "       [ -6.40978042, -10.03356876,  -1.76831835,  -1.05506373],\n",
              "       [ -6.70341347,  -8.42714879,  -1.83299252,  -1.57361798],\n",
              "       [ -6.26296389,  -7.89167547,  -1.96234085,  -1.40076656],\n",
              "       [ -5.96933083,  -7.35620215,  -1.93000377,  -1.22791514],\n",
              "       [ -5.67569778,  -8.42714879,  -1.80065544,  -1.22791514],\n",
              "       [ -5.8225143 ,  -7.35620215,  -1.73598127,  -0.70936089],\n",
              "       [ -6.85023   ,  -7.89167547,  -1.89766669,  -1.05506373],\n",
              "       [ -7.29067959,  -9.49809544,  -2.22103752,  -1.91932082],\n",
              "       [ -7.58431264, -10.56904209,  -2.12402627,  -1.7464694 ],\n",
              "       [ -7.58431264, -10.56904209,  -2.15636335,  -1.91932082],\n",
              "       [ -7.14386306,  -8.96262212,  -2.09168918,  -1.57361798],\n",
              "       [ -6.85023   ,  -8.96262212,  -1.70364419,  -0.88221231],\n",
              "       [ -7.73112917,  -7.35620215,  -1.89766669,  -1.05506373],\n",
              "       [ -6.85023   ,  -5.21430886,  -1.89766669,  -0.88221231],\n",
              "       [ -5.8225143 ,  -6.82072883,  -1.83299252,  -1.05506373],\n",
              "       [ -6.40978042, -11.10451541,  -1.93000377,  -1.40076656],\n",
              "       [ -7.43749612,  -7.35620215,  -2.02701502,  -1.40076656],\n",
              "       [ -7.58431264, -10.03356876,  -2.0593521 ,  -1.40076656],\n",
              "       [ -7.58431264,  -9.49809544,  -1.93000377,  -1.57361798],\n",
              "       [ -6.70341347,  -7.35620215,  -1.8653296 ,  -1.22791514],\n",
              "       [ -7.14386306,  -9.49809544,  -2.0593521 ,  -1.57361798],\n",
              "       [ -8.31839528, -11.10451541,  -2.28571168,  -1.91932082],\n",
              "       [ -7.43749612,  -8.96262212,  -1.99467793,  -1.40076656],\n",
              "       [ -7.29067959,  -7.35620215,  -1.99467793,  -1.57361798],\n",
              "       [ -7.29067959,  -7.89167547,  -1.99467793,  -1.40076656],\n",
              "       [ -6.55659695,  -7.89167547,  -1.96234085,  -1.40076656],\n",
              "       [ -8.17157876, -10.03356876,  -2.38272293,  -1.7464694 ],\n",
              "       [ -7.29067959,  -8.42714879,  -2.02701502,  -1.40076656],\n",
              "       [ -6.40978042,  -5.74978218,  -1.41261044,   0.67345046],\n",
              "       [ -7.14386306,  -8.96262212,  -1.70364419,  -0.36365805],\n",
              "       [ -5.23524819,  -7.35620215,  -1.44494753,  -0.01795522],\n",
              "       [ -6.40978042,  -7.89167547,  -1.54195877,  -0.53650947],\n",
              "       [ -6.11614736,  -7.35620215,  -1.47728461,   0.1548962 ],\n",
              "       [ -4.50116555,  -7.35620215,  -1.21858795,  -0.01795522],\n",
              "       [ -8.46521181, -10.03356876,  -1.89766669,  -0.70936089],\n",
              "       [ -4.94161513,  -7.89167547,  -1.31559919,  -0.53650947],\n",
              "       [ -5.8225143 , -10.03356876,  -1.47728461,  -0.53650947],\n",
              "       [ -5.08843166,  -4.14336221,  -1.38027336,   0.67345046],\n",
              "       [ -6.11614736,  -6.2852555 ,  -1.70364419,  -0.19080663],\n",
              "       [ -6.26296389,  -8.96262212,  -1.63897002,  -0.36365805],\n",
              "       [ -5.67569778,  -7.35620215,  -1.57429586,  -0.01795522],\n",
              "       [ -7.29067959, -10.03356876,  -1.73598127,  -0.19080663],\n",
              "       [ -7.14386306,  -8.42714879,  -1.70364419,   0.50059904],\n",
              "       [ -6.26296389,  -6.2852555 ,  -1.63897002,   0.32774762],\n",
              "       [ -6.11614736,  -7.35620215,  -1.57429586,  -0.53650947],\n",
              "       [ -4.35434902,  -3.07241557,  -1.18625086,   0.1548962 ],\n",
              "       [ -4.35434902,  -9.49809544,  -1.1215767 ,   0.32774762],\n",
              "       [ -6.85023   , -11.63998873,  -1.73598127,  -1.05506373],\n",
              "       [ -5.52888125,  -6.2852555 ,  -1.50962169,   0.32774762],\n",
              "       [ -7.43749612,  -8.42714879,  -1.76831835,  -0.19080663],\n",
              "       [ -4.35434902,  -8.42714879,  -1.18625086,  -0.19080663],\n",
              "       [ -6.40978042,  -8.96262212,  -1.76831835,  -0.53650947],\n",
              "       [ -5.8225143 ,  -5.74978218,  -1.50962169,  -0.01795522],\n",
              "       [ -5.08843166,  -6.2852555 ,  -1.41261044,  -0.53650947],\n",
              "       [ -6.55659695,  -8.42714879,  -1.80065544,  -0.53650947],\n",
              "       [ -6.70341347,  -7.35620215,  -1.76831835,  -0.53650947],\n",
              "       [ -6.26296389,  -8.42714879,  -1.54195877,  -0.01795522],\n",
              "       [ -5.08843166,  -7.35620215,  -1.47728461,  -0.88221231],\n",
              "       [ -4.79479861,  -8.42714879,  -1.38027336,  -0.36365805],\n",
              "       [ -4.06071596,  -3.07241557,  -1.28326211,  -0.19080663],\n",
              "       [ -6.26296389,  -8.42714879,  -1.54195877,   0.1548962 ],\n",
              "       [ -6.40978042,  -8.42714879,  -1.70364419,  -1.05506373],\n",
              "       [ -6.70341347,  -9.49809544,  -1.54195877,  -1.22791514],\n",
              "       [ -4.35434902,  -7.35620215,  -1.38027336,   0.32774762],\n",
              "       [ -6.40978042,  -5.21430886,  -1.54195877,   0.50059904],\n",
              "       [ -6.26296389,  -6.82072883,  -1.57429586,  -0.53650947],\n",
              "       [ -6.85023   ,  -7.35620215,  -1.80065544,  -0.53650947],\n",
              "       [ -5.52888125,  -6.82072883,  -1.60663294,  -0.01795522],\n",
              "       [ -5.8225143 ,  -6.82072883,  -1.54195877,   0.50059904],\n",
              "       [ -5.52888125,  -6.82072883,  -1.70364419,   0.32774762],\n",
              "       [ -7.14386306,  -8.96262212,  -1.70364419,  -0.36365805],\n",
              "       [ -5.67569778,  -6.2852555 ,  -1.44494753,   0.32774762],\n",
              "       [ -5.8225143 ,  -5.74978218,  -1.50962169,   0.67345046],\n",
              "       [ -5.8225143 ,  -7.35620215,  -1.67130711,   0.32774762],\n",
              "       [ -6.40978042, -10.03356876,  -1.73598127,  -0.36365805],\n",
              "       [ -6.11614736,  -7.35620215,  -1.67130711,  -0.19080663],\n",
              "       [ -6.55659695,  -5.21430886,  -1.60663294,   0.32774762],\n",
              "       [ -6.99704653,  -7.35620215,  -1.70364419,  -0.53650947]])"
            ]
          },
          "metadata": {},
          "execution_count": 19
        }
      ]
    },
    {
      "cell_type": "code",
      "source": [
        "from sklearn.model_selection import train_test_split\n",
        "x_train, x_test, y_train, y_test = train_test_split(x,y, test_size=0.3)"
      ],
      "metadata": {
        "id": "N7bY6GyZvLX8"
      },
      "execution_count": 46,
      "outputs": []
    },
    {
      "cell_type": "code",
      "source": [
        "from sklearn.neighbors import KNeighborsClassifier\n",
        "classifier=KNeighborsClassifier(n_neighbors= 5, metric='minkowski', p=1 )\n",
        "classifier.fit(x_train, y_train)\n",
        "y_prediction = classifier.predict(x_test)"
      ],
      "metadata": {
        "id": "bco5IwMTvLak"
      },
      "execution_count": 47,
      "outputs": []
    },
    {
      "cell_type": "code",
      "source": [
        "from sklearn.metrics import accuracy_score, confusion_matrix\n",
        "cm=confusion_matrix(y_test, y_prediction)\n",
        "print(cm)\n",
        "acc=accuracy_score(y_test, y_prediction)\n",
        "print(acc)"
      ],
      "metadata": {
        "colab": {
          "base_uri": "https://localhost:8080/"
        },
        "id": "IJY3TIMUvLdY",
        "outputId": "dde49c08-293a-423b-bc6f-d163a51e2368"
      },
      "execution_count": 48,
      "outputs": [
        {
          "output_type": "stream",
          "name": "stdout",
          "text": [
            "[[18  0  0]\n",
            " [ 0 11  0]\n",
            " [ 0  3 13]]\n",
            "0.9333333333333333\n"
          ]
        }
      ]
    },
    {
      "cell_type": "code",
      "source": [
        "from sklearn.neighbors import KNeighborsClassifier\n",
        "classifier=KNeighborsClassifier(n_neighbors= 5, metric='minkowski', p=2 )\n",
        "classifier.fit(x_train, y_train)\n",
        "y_prediction = classifier.predict(x_test)"
      ],
      "metadata": {
        "id": "nMAb3tj8vLf8"
      },
      "execution_count": 49,
      "outputs": []
    },
    {
      "cell_type": "code",
      "source": [
        "from sklearn.metrics import accuracy_score, confusion_matrix\n",
        "cm=confusion_matrix(y_test, y_prediction)\n",
        "print(cm)\n",
        "acc=accuracy_score(y_test, y_prediction)\n",
        "print(acc)"
      ],
      "metadata": {
        "colab": {
          "base_uri": "https://localhost:8080/"
        },
        "id": "EBXhbXRMvLil",
        "outputId": "60e42995-08dc-4c7f-d81b-87d0a3e45f24"
      },
      "execution_count": 50,
      "outputs": [
        {
          "output_type": "stream",
          "name": "stdout",
          "text": [
            "[[18  0  0]\n",
            " [ 0 11  0]\n",
            " [ 0  3 13]]\n",
            "0.9333333333333333\n"
          ]
        }
      ]
    },
    {
      "cell_type": "code",
      "source": [
        "from sklearn.neighbors import KNeighborsClassifier\n",
        "classifier=KNeighborsClassifier(n_neighbors= 5, metric='minkowski', p=3 )\n",
        "classifier.fit(x_train, y_train)\n",
        "y_prediction = classifier.predict(x_test)"
      ],
      "metadata": {
        "id": "vjqgondZvLld"
      },
      "execution_count": 51,
      "outputs": []
    },
    {
      "cell_type": "code",
      "source": [
        "from sklearn.metrics import accuracy_score, confusion_matrix\n",
        "cm=confusion_matrix(y_test, y_prediction)\n",
        "print(cm)\n",
        "acc=accuracy_score(y_test, y_prediction)\n",
        "print(acc)"
      ],
      "metadata": {
        "colab": {
          "base_uri": "https://localhost:8080/"
        },
        "id": "wYbqzhfa5iss",
        "outputId": "ea5c5d78-0f25-46c7-842e-211d42fd4ede"
      },
      "execution_count": 52,
      "outputs": [
        {
          "output_type": "stream",
          "name": "stdout",
          "text": [
            "[[18  0  0]\n",
            " [ 0 11  0]\n",
            " [ 0  3 13]]\n",
            "0.9333333333333333\n"
          ]
        }
      ]
    }
  ]
}